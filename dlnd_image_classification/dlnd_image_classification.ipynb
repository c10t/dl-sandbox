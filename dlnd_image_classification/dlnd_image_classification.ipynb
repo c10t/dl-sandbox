{
 "cells": [
  {
   "cell_type": "markdown",
   "metadata": {
    "collapsed": true,
    "deletable": true,
    "editable": true
   },
   "source": [
    "# Image Classification\n",
    "In this project, you'll classify images from the [CIFAR-10 dataset](https://www.cs.toronto.edu/~kriz/cifar.html).  The dataset consists of airplanes, dogs, cats, and other objects. You'll preprocess the images, then train a convolutional neural network on all the samples. The images need to be normalized and the labels need to be one-hot encoded.  You'll get to apply what you learned and build a convolutional, max pooling, dropout, and fully connected layers.  At the end, you'll get to see your neural network's predictions on the sample images.\n",
    "## Get the Data\n",
    "Run the following cell to download the [CIFAR-10 dataset for python](https://www.cs.toronto.edu/~kriz/cifar-10-python.tar.gz)."
   ]
  },
  {
   "cell_type": "code",
   "execution_count": 2,
   "metadata": {
    "collapsed": false,
    "deletable": true,
    "editable": true
   },
   "outputs": [
    {
     "name": "stdout",
     "output_type": "stream",
     "text": [
      "All files found!\n"
     ]
    }
   ],
   "source": [
    "\"\"\"\n",
    "DON'T MODIFY ANYTHING IN THIS CELL THAT IS BELOW THIS LINE\n",
    "\"\"\"\n",
    "from urllib.request import urlretrieve\n",
    "from os.path import isfile, isdir\n",
    "from tqdm import tqdm\n",
    "import problem_unittests as tests\n",
    "import tarfile\n",
    "\n",
    "cifar10_dataset_folder_path = 'cifar-10-batches-py'\n",
    "\n",
    "class DLProgress(tqdm):\n",
    "    last_block = 0\n",
    "\n",
    "    def hook(self, block_num=1, block_size=1, total_size=None):\n",
    "        self.total = total_size\n",
    "        self.update((block_num - self.last_block) * block_size)\n",
    "        self.last_block = block_num\n",
    "\n",
    "if not isfile('cifar-10-python.tar.gz'):\n",
    "    with DLProgress(unit='B', unit_scale=True, miniters=1, desc='CIFAR-10 Dataset') as pbar:\n",
    "        urlretrieve(\n",
    "            'https://www.cs.toronto.edu/~kriz/cifar-10-python.tar.gz',\n",
    "            'cifar-10-python.tar.gz',\n",
    "            pbar.hook)\n",
    "\n",
    "if not isdir(cifar10_dataset_folder_path):\n",
    "    with tarfile.open('cifar-10-python.tar.gz') as tar:\n",
    "        tar.extractall()\n",
    "        tar.close()\n",
    "\n",
    "\n",
    "tests.test_folder_path(cifar10_dataset_folder_path)"
   ]
  },
  {
   "cell_type": "markdown",
   "metadata": {
    "deletable": true,
    "editable": true
   },
   "source": [
    "## Explore the Data\n",
    "The dataset is broken into batches to prevent your machine from running out of memory.  The CIFAR-10 dataset consists of 5 batches, named `data_batch_1`, `data_batch_2`, etc.. Each batch contains the labels and images that are one of the following:\n",
    "* airplane\n",
    "* automobile\n",
    "* bird\n",
    "* cat\n",
    "* deer\n",
    "* dog\n",
    "* frog\n",
    "* horse\n",
    "* ship\n",
    "* truck\n",
    "\n",
    "Understanding a dataset is part of making predictions on the data.  Play around with the code cell below by changing the `batch_id` and `sample_id`. The `batch_id` is the id for a batch (1-5). The `sample_id` is the id for a image and label pair in the batch.\n",
    "\n",
    "Ask yourself \"What are all possible labels?\", \"What is the range of values for the image data?\", \"Are the labels in order or random?\".  Answers to questions like these will help you preprocess the data and end up with better predictions."
   ]
  },
  {
   "cell_type": "code",
   "execution_count": 3,
   "metadata": {
    "collapsed": false,
    "deletable": true,
    "editable": true
   },
   "outputs": [
    {
     "name": "stdout",
     "output_type": "stream",
     "text": [
      "\n",
      "Stats of batch 1:\n",
      "Samples: 10000\n",
      "Label Counts: {0: 1005, 1: 974, 2: 1032, 3: 1016, 4: 999, 5: 937, 6: 1030, 7: 1001, 8: 1025, 9: 981}\n",
      "First 20 Labels: [6, 9, 9, 4, 1, 1, 2, 7, 8, 3, 4, 7, 7, 2, 9, 9, 9, 3, 2, 6]\n",
      "\n",
      "Example of Image 5:\n",
      "Image - Min Value: 0 Max Value: 252\n",
      "Image - Shape: (32, 32, 3)\n",
      "Label - Label Id: 1 Name: automobile\n"
     ]
    },
    {
     "data": {
      "image/png": "[encoded data removed]",
      "text/plain": [
       "<matplotlib.figure.Figure at 0x7f24dc19f8d0>"
      ]
     },
     "metadata": {
      "image/png": {
       "height": 250,
       "width": 253
      }
     },
     "output_type": "display_data"
    }
   ],
   "source": [
    "%matplotlib inline\n",
    "%config InlineBackend.figure_format = 'retina'\n",
    "\n",
    "import helper\n",
    "import numpy as np\n",
    "\n",
    "# Explore the dataset\n",
    "batch_id = 1\n",
    "sample_id = 5\n",
    "helper.display_stats(cifar10_dataset_folder_path, batch_id, sample_id)"
   ]
  },
  {
   "cell_type": "markdown",
   "metadata": {
    "deletable": true,
    "editable": true
   },
   "source": [
    "## Implement Preprocess Functions\n",
    "### Normalize\n",
    "In the cell below, implement the `normalize` function to take in image data, `x`, and return it as a normalized Numpy array. The values should be in the range of 0 to 1, inclusive.  The return object should be the same shape as `x`."
   ]
  },
  {
   "cell_type": "code",
   "execution_count": 4,
   "metadata": {
    "collapsed": false,
    "deletable": true,
    "editable": true
   },
   "outputs": [
    {
     "name": "stdout",
     "output_type": "stream",
     "text": [
      "Tests Passed\n"
     ]
    }
   ],
   "source": [
    "def normalize(x):\n",
    "    \"\"\"\n",
    "    Normalize a list of sample image data in the range of 0 to 1\n",
    "    : x: List of image data.  The image shape is (32, 32, 3)\n",
    "    : return: Numpy array of normalize data\n",
    "    \"\"\"\n",
    "    # TODO: Implement Function\n",
    "    # print(x[0])\n",
    "    return x/255\n",
    "\n",
    "\"\"\"\n",
    "DON'T MODIFY ANYTHING IN THIS CELL THAT IS BELOW THIS LINE\n",
    "\"\"\"\n",
    "tests.test_normalize(normalize)"
   ]
  },
  {
   "cell_type": "markdown",
   "metadata": {
    "deletable": true,
    "editable": true
   },
   "source": [
    "### One-hot encode\n",
    "Just like the previous code cell, you'll be implementing a function for preprocessing.  This time, you'll implement the `one_hot_encode` function. The input, `x`, are a list of labels.  Implement the function to return the list of labels as One-Hot encoded Numpy array.  The possible values for labels are 0 to 9. The one-hot encoding function should return the same encoding for each value between each call to `one_hot_encode`.  Make sure to save the map of encodings outside the function.\n",
    "\n",
    "Hint: Don't reinvent the wheel."
   ]
  },
  {
   "cell_type": "code",
   "execution_count": 5,
   "metadata": {
    "collapsed": false,
    "deletable": true,
    "editable": true
   },
   "outputs": [
    {
     "name": "stdout",
     "output_type": "stream",
     "text": [
      "Tests Passed\n"
     ]
    }
   ],
   "source": [
    "from sklearn import preprocessing\n",
    "\n",
    "label_binarizer = None\n",
    "\n",
    "def one_hot_encode(x):\n",
    "    \"\"\"\n",
    "    One hot encode a list of sample labels. Return a one-hot encoded vector for each label.\n",
    "    : x: List of sample Labels\n",
    "    : return: Numpy array of one-hot encoded labels\n",
    "    \"\"\"\n",
    "    # TODO: Implement Function\n",
    "    global label_binarizer\n",
    "    if label_binarizer is None:\n",
    "        label_binarizer = preprocessing.LabelBinarizer()\n",
    "        label_binarizer.fit(x)\n",
    "        \n",
    "    encodings = label_binarizer.transform(x)\n",
    "    return encodings\n",
    "\n",
    "\n",
    "\"\"\"\n",
    "DON'T MODIFY ANYTHING IN THIS CELL THAT IS BELOW THIS LINE\n",
    "\"\"\"\n",
    "tests.test_one_hot_encode(one_hot_encode)"
   ]
  },
  {
   "cell_type": "markdown",
   "metadata": {
    "deletable": true,
    "editable": true
   },
   "source": [
    "### Randomize Data\n",
    "As you saw from exploring the data above, the order of the samples are randomized.  It doesn't hurt to randomize it again, but you don't need to for this dataset."
   ]
  },
  {
   "cell_type": "markdown",
   "metadata": {
    "deletable": true,
    "editable": true
   },
   "source": [
    "## Preprocess all the data and save it\n",
    "Running the code cell below will preprocess all the CIFAR-10 data and save it to file. The code below also uses 10% of the training data for validation."
   ]
  },
  {
   "cell_type": "code",
   "execution_count": 10,
   "metadata": {
    "collapsed": false,
    "deletable": true,
    "editable": true
   },
   "outputs": [],
   "source": [
    "\"\"\"\n",
    "DON'T MODIFY ANYTHING IN THIS CELL\n",
    "\"\"\"\n",
    "# Preprocess Training, Validation, and Testing Data\n",
    "helper.preprocess_and_save_data(cifar10_dataset_folder_path, normalize, one_hot_encode)"
   ]
  },
  {
   "cell_type": "markdown",
   "metadata": {
    "deletable": true,
    "editable": true
   },
   "source": [
    "# Check Point\n",
    "This is your first checkpoint.  If you ever decide to come back to this notebook or have to restart the notebook, you can start from here.  The preprocessed data has been saved to disk."
   ]
  },
  {
   "cell_type": "code",
   "execution_count": 6,
   "metadata": {
    "collapsed": true,
    "deletable": true,
    "editable": true
   },
   "outputs": [],
   "source": [
    "\"\"\"\n",
    "DON'T MODIFY ANYTHING IN THIS CELL\n",
    "\"\"\"\n",
    "import pickle\n",
    "import problem_unittests as tests\n",
    "import helper\n",
    "\n",
    "# Load the Preprocessed Validation data\n",
    "valid_features, valid_labels = pickle.load(open('preprocess_validation.p', mode='rb'))"
   ]
  },
  {
   "cell_type": "markdown",
   "metadata": {
    "deletable": true,
    "editable": true
   },
   "source": [
    "## Build the network\n",
    "For the neural network, you'll build each layer into a function.  Most of the code you've seen has been outside of functions. To test your code more thoroughly, we require that you put each layer in a function.  This allows us to give you better feedback and test for simple mistakes using our unittests before you submit your project.\n",
    "\n",
    ">**Note:** If you're finding it hard to dedicate enough time for this course each week, we've provided a small shortcut to this part of the project. In the next couple of problems, you'll have the option to use classes from the [TensorFlow Layers](https://www.tensorflow.org/api_docs/python/tf/layers) or [TensorFlow Layers (contrib)](https://www.tensorflow.org/api_guides/python/contrib.layers) packages to build each layer, except the layers you build in the \"Convolutional and Max Pooling Layer\" section.  TF Layers is similar to Keras's and TFLearn's abstraction to layers, so it's easy to pickup.\n",
    "\n",
    ">However, if you would like to get the most out of this course, try to solve all the problems _without_ using anything from the TF Layers packages. You **can** still use classes from other packages that happen to have the same name as ones you find in TF Layers! For example, instead of using the TF Layers version of the `conv2d` class, [tf.layers.conv2d](https://www.tensorflow.org/api_docs/python/tf/layers/conv2d), you would want to use the TF Neural Network version of `conv2d`, [tf.nn.conv2d](https://www.tensorflow.org/api_docs/python/tf/nn/conv2d). \n",
    "\n",
    "Let's begin!\n",
    "\n",
    "### Input\n",
    "The neural network needs to read the image data, one-hot encoded labels, and dropout keep probability. Implement the following functions\n",
    "* Implement `neural_net_image_input`\n",
    " * Return a [TF Placeholder](https://www.tensorflow.org/api_docs/python/tf/placeholder)\n",
    " * Set the shape using `image_shape` with batch size set to `None`.\n",
    " * Name the TensorFlow placeholder \"x\" using the TensorFlow `name` parameter in the [TF Placeholder](https://www.tensorflow.org/api_docs/python/tf/placeholder).\n",
    "* Implement `neural_net_label_input`\n",
    " * Return a [TF Placeholder](https://www.tensorflow.org/api_docs/python/tf/placeholder)\n",
    " * Set the shape using `n_classes` with batch size set to `None`.\n",
    " * Name the TensorFlow placeholder \"y\" using the TensorFlow `name` parameter in the [TF Placeholder](https://www.tensorflow.org/api_docs/python/tf/placeholder).\n",
    "* Implement `neural_net_keep_prob_input`\n",
    " * Return a [TF Placeholder](https://www.tensorflow.org/api_docs/python/tf/placeholder) for dropout keep probability.\n",
    " * Name the TensorFlow placeholder \"keep_prob\" using the TensorFlow `name` parameter in the [TF Placeholder](https://www.tensorflow.org/api_docs/python/tf/placeholder).\n",
    "\n",
    "These names will be used at the end of the project to load your saved model.\n",
    "\n",
    "Note: `None` for shapes in TensorFlow allow for a dynamic size."
   ]
  },
  {
   "cell_type": "code",
   "execution_count": 7,
   "metadata": {
    "collapsed": false,
    "deletable": true,
    "editable": true
   },
   "outputs": [
    {
     "name": "stdout",
     "output_type": "stream",
     "text": [
      "Image Input Tests Passed.\n",
      "Label Input Tests Passed.\n",
      "Keep Prob Tests Passed.\n"
     ]
    }
   ],
   "source": [
    "import tensorflow as tf\n",
    "\n",
    "def neural_net_image_input(image_shape):\n",
    "    \"\"\"\n",
    "    Return a Tensor for a bach of image input\n",
    "    : image_shape: Shape of the images\n",
    "    : return: Tensor for image input.\n",
    "    \"\"\"\n",
    "    # TODO: Implement Function\n",
    "    shape_ = [None] + list(image_shape)\n",
    "    return tf.placeholder(tf.float32, shape=shape_, name=\"x\")\n",
    "\n",
    "\n",
    "def neural_net_label_input(n_classes):\n",
    "    \"\"\"\n",
    "    Return a Tensor for a batch of label input\n",
    "    : n_classes: Number of classes\n",
    "    : return: Tensor for label input.\n",
    "    \"\"\"\n",
    "    # TODO: Implement Function\n",
    "    shape_ = [None, n_classes]\n",
    "    return tf.placeholder(tf.float32, shape=shape_, name=\"y\")\n",
    "\n",
    "\n",
    "def neural_net_keep_prob_input():\n",
    "    \"\"\"\n",
    "    Return a Tensor for keep probability\n",
    "    : return: Tensor for keep probability.\n",
    "    \"\"\"\n",
    "    # TODO: Implement Function\n",
    "    return tf.placeholder(tf.float32, shape=None, name=\"keep_prob\")\n",
    "\n",
    "\n",
    "\"\"\"\n",
    "DON'T MODIFY ANYTHING IN THIS CELL THAT IS BELOW THIS LINE\n",
    "\"\"\"\n",
    "tf.reset_default_graph()\n",
    "tests.test_nn_image_inputs(neural_net_image_input)\n",
    "tests.test_nn_label_inputs(neural_net_label_input)\n",
    "tests.test_nn_keep_prob_inputs(neural_net_keep_prob_input)"
   ]
  },
  {
   "cell_type": "markdown",
   "metadata": {
    "deletable": true,
    "editable": true
   },
   "source": [
    "### Convolution and Max Pooling Layer\n",
    "Convolution layers have a lot of success with images. For this code cell, you should implement the function `conv2d_maxpool` to apply convolution then max pooling:\n",
    "* Create the weight and bias using `conv_ksize`, `conv_num_outputs` and the shape of `x_tensor`.\n",
    "* Apply a convolution to `x_tensor` using weight and `conv_strides`.\n",
    " * We recommend you use same padding, but you're welcome to use any padding.\n",
    "* Add bias\n",
    "* Add a nonlinear activation to the convolution.\n",
    "* Apply Max Pooling using `pool_ksize` and `pool_strides`.\n",
    " * We recommend you use same padding, but you're welcome to use any padding.\n",
    "\n",
    "**Note:** You **can't** use [TensorFlow Layers](https://www.tensorflow.org/api_docs/python/tf/layers) or [TensorFlow Layers (contrib)](https://www.tensorflow.org/api_guides/python/contrib.layers) for **this** layer, but you can still use TensorFlow's [Neural Network](https://www.tensorflow.org/api_docs/python/tf/nn) package. You may still use the shortcut option for all the **other** layers."
   ]
  },
  {
   "cell_type": "code",
   "execution_count": 34,
   "metadata": {
    "collapsed": false,
    "deletable": true,
    "editable": true
   },
   "outputs": [
    {
     "name": "stdout",
     "output_type": "stream",
     "text": [
      "Tests Passed\n"
     ]
    }
   ],
   "source": [
    "def conv2d_maxpool(x_tensor, conv_num_outputs, conv_ksize, conv_strides, pool_ksize, pool_strides):\n",
    "    \"\"\"\n",
    "    Apply convolution then max pooling to x_tensor\n",
    "    :param x_tensor: TensorFlow Tensor\n",
    "    :param conv_num_outputs: Number of outputs for the convolutional layer\n",
    "    :param conv_ksize: kernal size 2-D Tuple for the convolutional layer\n",
    "    :param conv_strides: Stride 2-D Tuple for convolution\n",
    "    :param pool_ksize: kernal size 2-D Tuple for pool\n",
    "    :param pool_strides: Stride 2-D Tuple for pool\n",
    "    : return: A tensor that represents convolution and max pooling of x_tensor\n",
    "    \"\"\"\n",
    "    # TODO: Implement Function\n",
    "    # print(conv_ksize)\n",
    "    # print(x_tensor.get_shape().as_list()[-1])\n",
    "    # print(conv_num_outputs)\n",
    "    weights_shape = list(conv_ksize) + [x_tensor.get_shape().as_list()[-1], conv_num_outputs]\n",
    "    # print(weights_shape)\n",
    "    weights = tf.Variable(tf.truncated_normal(shape=weights_shape, mean=0.0, stddev=0.1))\n",
    "    bias = tf.Variable(tf.zeros(conv_num_outputs))\n",
    "    # print(conv_strides)\n",
    "    strides_attr = [1] + list(conv_strides) + [1]\n",
    "    conv = tf.nn.conv2d(x_tensor, weights, strides=strides_attr, padding='SAME')\n",
    "    conv = tf.nn.bias_add(conv, bias)\n",
    "    conv = tf.nn.relu(conv)\n",
    "    pool_ksize_attr  = [1] + list(pool_ksize) + [1]\n",
    "    pool_strides_attr = [1] + list(pool_strides) + [1]\n",
    "    conv = tf.nn.max_pool(conv, ksize=pool_ksize_attr, strides=pool_strides_attr, padding='SAME')\n",
    "    return conv\n",
    "\n",
    "\n",
    "\"\"\"\n",
    "DON'T MODIFY ANYTHING IN THIS CELL THAT IS BELOW THIS LINE\n",
    "\"\"\"\n",
    "tests.test_con_pool(conv2d_maxpool)"
   ]
  },
  {
   "cell_type": "markdown",
   "metadata": {
    "deletable": true,
    "editable": true
   },
   "source": [
    "### Flatten Layer\n",
    "Implement the `flatten` function to change the dimension of `x_tensor` from a 4-D tensor to a 2-D tensor.  The output should be the shape (*Batch Size*, *Flattened Image Size*). Shortcut option: you can use classes from the [TensorFlow Layers](https://www.tensorflow.org/api_docs/python/tf/layers) or [TensorFlow Layers (contrib)](https://www.tensorflow.org/api_guides/python/contrib.layers) packages for this layer. For more of a challenge, only use other TensorFlow packages."
   ]
  },
  {
   "cell_type": "code",
   "execution_count": 8,
   "metadata": {
    "collapsed": false,
    "deletable": true,
    "editable": true
   },
   "outputs": [
    {
     "name": "stdout",
     "output_type": "stream",
     "text": [
      "Tests Passed\n"
     ]
    }
   ],
   "source": [
    "def flatten(x_tensor):\n",
    "    \"\"\"\n",
    "    Flatten x_tensor to (Batch Size, Flattened Image Size)\n",
    "    : x_tensor: A tensor of size (Batch Size, ...), where ... are the image dimensions.\n",
    "    : return: A tensor of size (Batch Size, Flattened Image Size).\n",
    "    \"\"\"\n",
    "    # TODO: Implement Function\n",
    "    return tf.contrib.layers.flatten(x_tensor)\n",
    "\n",
    "\n",
    "\"\"\"\n",
    "DON'T MODIFY ANYTHING IN THIS CELL THAT IS BELOW THIS LINE\n",
    "\"\"\"\n",
    "tests.test_flatten(flatten)"
   ]
  },
  {
   "cell_type": "markdown",
   "metadata": {
    "deletable": true,
    "editable": true
   },
   "source": [
    "### Fully-Connected Layer\n",
    "Implement the `fully_conn` function to apply a fully connected layer to `x_tensor` with the shape (*Batch Size*, *num_outputs*). Shortcut option: you can use classes from the [TensorFlow Layers](https://www.tensorflow.org/api_docs/python/tf/layers) or [TensorFlow Layers (contrib)](https://www.tensorflow.org/api_guides/python/contrib.layers) packages for this layer. For more of a challenge, only use other TensorFlow packages."
   ]
  },
  {
   "cell_type": "code",
   "execution_count": 19,
   "metadata": {
    "collapsed": false,
    "deletable": true,
    "editable": true
   },
   "outputs": [
    {
     "name": "stdout",
     "output_type": "stream",
     "text": [
      "Tests Passed\n"
     ]
    }
   ],
   "source": [
    "def fully_conn(x_tensor, num_outputs):\n",
    "    \"\"\"\n",
    "    Apply a fully connected layer to x_tensor using weight and bias\n",
    "    : x_tensor: A 2-D tensor where the first dimension is batch size.\n",
    "    : num_outputs: The number of output that the new tensor should be.\n",
    "    : return: A 2-D tensor where the second dimension is num_outputs.\n",
    "    \"\"\"\n",
    "    # TODO: Implement Function\n",
    "    return tf.contrib.layers.fully_connected(inputs=x_tensor, num_outputs=num_outputs, activation_fn=tf.nn.relu)\n",
    "\n",
    "\n",
    "\"\"\"\n",
    "DON'T MODIFY ANYTHING IN THIS CELL THAT IS BELOW THIS LINE\n",
    "\"\"\"\n",
    "tests.test_fully_conn(fully_conn)"
   ]
  },
  {
   "cell_type": "markdown",
   "metadata": {
    "deletable": true,
    "editable": true
   },
   "source": [
    "### Output Layer\n",
    "Implement the `output` function to apply a fully connected layer to `x_tensor` with the shape (*Batch Size*, *num_outputs*). Shortcut option: you can use classes from the [TensorFlow Layers](https://www.tensorflow.org/api_docs/python/tf/layers) or [TensorFlow Layers (contrib)](https://www.tensorflow.org/api_guides/python/contrib.layers) packages for this layer. For more of a challenge, only use other TensorFlow packages.\n",
    "\n",
    "**Note:** Activation, softmax, or cross entropy should **not** be applied to this."
   ]
  },
  {
   "cell_type": "code",
   "execution_count": 21,
   "metadata": {
    "collapsed": false,
    "deletable": true,
    "editable": true
   },
   "outputs": [
    {
     "name": "stdout",
     "output_type": "stream",
     "text": [
      "Tests Passed\n"
     ]
    }
   ],
   "source": [
    "def output(x_tensor, num_outputs):\n",
    "    \"\"\"\n",
    "    Apply a output layer to x_tensor using weight and bias\n",
    "    : x_tensor: A 2-D tensor where the first dimension is batch size.\n",
    "    : num_outputs: The number of output that the new tensor should be.\n",
    "    : return: A 2-D tensor where the second dimension is num_outputs.\n",
    "    \"\"\"\n",
    "    # TODO: Implement Function\n",
    "    return tf.contrib.layers.fully_connected(inputs=x_tensor, num_outputs=num_outputs)\n",
    "\n",
    "\n",
    "\"\"\"\n",
    "DON'T MODIFY ANYTHING IN THIS CELL THAT IS BELOW THIS LINE\n",
    "\"\"\"\n",
    "tests.test_output(output)"
   ]
  },
  {
   "cell_type": "markdown",
   "metadata": {
    "deletable": true,
    "editable": true
   },
   "source": [
    "### Create Convolutional Model\n",
    "Implement the function `conv_net` to create a convolutional neural network model. The function takes in a batch of images, `x`, and outputs logits.  Use the layers you created above to create this model:\n",
    "\n",
    "* Apply 1, 2, or 3 Convolution and Max Pool layers\n",
    "* Apply a Flatten Layer\n",
    "* Apply 1, 2, or 3 Fully Connected Layers\n",
    "* Apply an Output Layer\n",
    "* Return the output\n",
    "* Apply [TensorFlow's Dropout](https://www.tensorflow.org/api_docs/python/tf/nn/dropout) to one or more layers in the model using `keep_prob`. "
   ]
  },
  {
   "cell_type": "code",
   "execution_count": 35,
   "metadata": {
    "collapsed": false,
    "deletable": true,
    "editable": true
   },
   "outputs": [
    {
     "name": "stdout",
     "output_type": "stream",
     "text": [
      "Neural Network Built!\n"
     ]
    }
   ],
   "source": [
    "def conv_net(x, keep_prob):\n",
    "    \"\"\"\n",
    "    Create a convolutional neural network model\n",
    "    : x: Placeholder tensor that holds image data.\n",
    "    : keep_prob: Placeholder tensor that hold dropout keep probability.\n",
    "    : return: Tensor that represents logits\n",
    "    \"\"\"\n",
    "    # TODO: Apply 1, 2, or 3 Convolution and Max Pool layers\n",
    "    #    Play around with different number of outputs, kernel size and stride\n",
    "    # Function Definition from Above:\n",
    "    #    conv2d_maxpool(x_tensor, conv_num_outputs, conv_ksize, conv_strides, pool_ksize, pool_strides)\n",
    "    conv_ksize = (5, 5)\n",
    "    conv_strides = (1, 1)\n",
    "    pool_ksize = (2, 2)\n",
    "    pool_strides = (2, 2)\n",
    "    \n",
    "    # conv1\n",
    "    cnn = conv2d_maxpool(x, 10, conv_ksize, conv_strides, pool_ksize, pool_strides)\n",
    "    \n",
    "    # conv2\n",
    "    cnn = conv2d_maxpool(cnn, 25, conv_ksize, conv_strides, pool_ksize, pool_strides)\n",
    "    \n",
    "    # conv3\n",
    "    cnn = conv2d_maxpool(cnn, 40, conv_ksize, conv_strides, pool_ksize, pool_strides)\n",
    "\n",
    "    # TODO: Apply a Flatten Layer\n",
    "    # Function Definition from Above:\n",
    "    #   flatten(x_tensor)\n",
    "    \n",
    "    cnn = flatten(cnn)\n",
    "\n",
    "    # TODO: Apply 1, 2, or 3 Fully Connected Layers\n",
    "    #    Play around with different number of outputs\n",
    "    # Function Definition from Above:\n",
    "    #   fully_conn(x_tensor, num_outputs)\n",
    "    \n",
    "    cnn = fully_conn(cnn, 64)\n",
    "    cnn = tf.nn.dropout(cnn, keep_prob)\n",
    "    cnn = fully_conn(cnn, 32)\n",
    "    cnn = tf.nn.dropout(cnn, keep_prob)\n",
    "    \n",
    "    # TODO: Apply an Output Layer\n",
    "    #    Set this to the number of classes\n",
    "    # Function Definition from Above:\n",
    "    #   output(x_tensor, num_outputs)\n",
    "    \n",
    "    \n",
    "    # TODO: return output\n",
    "    return output(cnn, 10)\n",
    "\n",
    "\n",
    "\"\"\"\n",
    "DON'T MODIFY ANYTHING IN THIS CELL THAT IS BELOW THIS LINE\n",
    "\"\"\"\n",
    "\n",
    "##############################\n",
    "## Build the Neural Network ##\n",
    "##############################\n",
    "\n",
    "# Remove previous weights, bias, inputs, etc..\n",
    "tf.reset_default_graph()\n",
    "\n",
    "# Inputs\n",
    "x = neural_net_image_input((32, 32, 3))\n",
    "y = neural_net_label_input(10)\n",
    "keep_prob = neural_net_keep_prob_input()\n",
    "\n",
    "# Model\n",
    "logits = conv_net(x, keep_prob)\n",
    "\n",
    "# Name logits Tensor, so that is can be loaded from disk after training\n",
    "logits = tf.identity(logits, name='logits')\n",
    "\n",
    "# Loss and Optimizer\n",
    "cost = tf.reduce_mean(tf.nn.softmax_cross_entropy_with_logits(logits=logits, labels=y))\n",
    "optimizer = tf.train.AdamOptimizer().minimize(cost)\n",
    "\n",
    "# Accuracy\n",
    "correct_pred = tf.equal(tf.argmax(logits, 1), tf.argmax(y, 1))\n",
    "accuracy = tf.reduce_mean(tf.cast(correct_pred, tf.float32), name='accuracy')\n",
    "\n",
    "tests.test_conv_net(conv_net)"
   ]
  },
  {
   "cell_type": "markdown",
   "metadata": {
    "deletable": true,
    "editable": true
   },
   "source": [
    "## Train the Neural Network\n",
    "### Single Optimization\n",
    "Implement the function `train_neural_network` to do a single optimization.  The optimization should use `optimizer` to optimize in `session` with a `feed_dict` of the following:\n",
    "* `x` for image input\n",
    "* `y` for labels\n",
    "* `keep_prob` for keep probability for dropout\n",
    "\n",
    "This function will be called for each batch, so `tf.global_variables_initializer()` has already been called.\n",
    "\n",
    "Note: Nothing needs to be returned. This function is only optimizing the neural network."
   ]
  },
  {
   "cell_type": "code",
   "execution_count": 36,
   "metadata": {
    "collapsed": false,
    "deletable": true,
    "editable": true
   },
   "outputs": [
    {
     "name": "stdout",
     "output_type": "stream",
     "text": [
      "Tests Passed\n"
     ]
    }
   ],
   "source": [
    "def train_neural_network(session, optimizer, keep_probability, feature_batch, label_batch):\n",
    "    \"\"\"\n",
    "    Optimize the session on a batch of images and labels\n",
    "    : session: Current TensorFlow session\n",
    "    : optimizer: TensorFlow optimizer function\n",
    "    : keep_probability: keep probability\n",
    "    : feature_batch: Batch of Numpy image data\n",
    "    : label_batch: Batch of Numpy label data\n",
    "    \"\"\"\n",
    "    # TODO: Implement Function\n",
    "    feeds = {x: feature_batch,  y: label_batch, keep_prob: keep_probability}\n",
    "    session.run(optimizer, feed_dict = feeds)\n",
    "\n",
    "\n",
    "\"\"\"\n",
    "DON'T MODIFY ANYTHING IN THIS CELL THAT IS BELOW THIS LINE\n",
    "\"\"\"\n",
    "tests.test_train_nn(train_neural_network)"
   ]
  },
  {
   "cell_type": "markdown",
   "metadata": {
    "deletable": true,
    "editable": true
   },
   "source": [
    "### Show Stats\n",
    "Implement the function `print_stats` to print loss and validation accuracy.  Use the global variables `valid_features` and `valid_labels` to calculate validation accuracy.  Use a keep probability of `1.0` to calculate the loss and validation accuracy."
   ]
  },
  {
   "cell_type": "code",
   "execution_count": 28,
   "metadata": {
    "collapsed": false,
    "deletable": true,
    "editable": true
   },
   "outputs": [],
   "source": [
    "def print_stats(session, feature_batch, label_batch, cost, accuracy):\n",
    "    \"\"\"\n",
    "    Print information about loss and validation accuracy\n",
    "    : session: Current TensorFlow session\n",
    "    : feature_batch: Batch of Numpy image data\n",
    "    : label_batch: Batch of Numpy label data\n",
    "    : cost: TensorFlow cost function\n",
    "    : accuracy: TensorFlow accuracy function\n",
    "    \"\"\"\n",
    "    # TODO: Implement Function\n",
    "    feeds = {x: feature_batch, y: label_batch, keep_prob: 1.0}\n",
    "    accuracy = session.run(accuracy, feed_dict = feeds)\n",
    "    loss =  session.run(cost, feed_dict = feeds)\n",
    "    print('accuracy: {:>2}, loss: {} '.format(accuracy, loss))"
   ]
  },
  {
   "cell_type": "markdown",
   "metadata": {
    "deletable": true,
    "editable": true
   },
   "source": [
    "### Hyperparameters\n",
    "Tune the following parameters:\n",
    "* Set `epochs` to the number of iterations until the network stops learning or start overfitting\n",
    "* Set `batch_size` to the highest number that your machine has memory for.  Most people set them to common sizes of memory:\n",
    " * 64\n",
    " * 128\n",
    " * 256\n",
    " * ...\n",
    "* Set `keep_probability` to the probability of keeping a node using dropout"
   ]
  },
  {
   "cell_type": "code",
   "execution_count": 38,
   "metadata": {
    "collapsed": true,
    "deletable": true,
    "editable": true
   },
   "outputs": [],
   "source": [
    "# TODO: Tune Parameters\n",
    "epochs = 20\n",
    "batch_size = 128\n",
    "keep_probability = 0.5"
   ]
  },
  {
   "cell_type": "markdown",
   "metadata": {
    "deletable": true,
    "editable": true
   },
   "source": [
    "### Train on a Single CIFAR-10 Batch\n",
    "Instead of training the neural network on all the CIFAR-10 batches of data, let's use a single batch. This should save time while you iterate on the model to get a better accuracy.  Once the final validation accuracy is 50% or greater, run the model on all the data in the next section."
   ]
  },
  {
   "cell_type": "code",
   "execution_count": 39,
   "metadata": {
    "collapsed": false,
    "deletable": true,
    "editable": true
   },
   "outputs": [
    {
     "name": "stdout",
     "output_type": "stream",
     "text": [
      "Checking the Training on a Single Batch...\n",
      "Epoch  1, CIFAR-10 Batch 1:  accuracy: 0.17499999701976776, loss: 2.284860134124756 \n",
      "Epoch  2, CIFAR-10 Batch 1:  accuracy: 0.25, loss: 2.192859649658203 \n",
      "Epoch  3, CIFAR-10 Batch 1:  accuracy: 0.22499999403953552, loss: 2.1316263675689697 \n",
      "Epoch  4, CIFAR-10 Batch 1:  accuracy: 0.42500001192092896, loss: 1.9944329261779785 \n",
      "Epoch  5, CIFAR-10 Batch 1:  accuracy: 0.32500001788139343, loss: 1.954391360282898 \n",
      "Epoch  6, CIFAR-10 Batch 1:  accuracy: 0.3500000238418579, loss: 1.8618978261947632 \n",
      "Epoch  7, CIFAR-10 Batch 1:  accuracy: 0.32499998807907104, loss: 1.7974789142608643 \n",
      "Epoch  8, CIFAR-10 Batch 1:  accuracy: 0.45000001788139343, loss: 1.7005269527435303 \n",
      "Epoch  9, CIFAR-10 Batch 1:  accuracy: 0.4750000238418579, loss: 1.6303017139434814 \n",
      "Epoch 10, CIFAR-10 Batch 1:  accuracy: 0.44999998807907104, loss: 1.5730884075164795 \n",
      "Epoch 11, CIFAR-10 Batch 1:  accuracy: 0.4750000238418579, loss: 1.587602138519287 \n",
      "Epoch 12, CIFAR-10 Batch 1:  accuracy: 0.42500001192092896, loss: 1.4866501092910767 \n",
      "Epoch 13, CIFAR-10 Batch 1:  accuracy: 0.5249999761581421, loss: 1.3604823350906372 \n",
      "Epoch 14, CIFAR-10 Batch 1:  accuracy: 0.550000011920929, loss: 1.2893906831741333 \n",
      "Epoch 15, CIFAR-10 Batch 1:  accuracy: 0.5249999761581421, loss: 1.275038719177246 \n",
      "Epoch 16, CIFAR-10 Batch 1:  accuracy: 0.550000011920929, loss: 1.240490436553955 \n",
      "Epoch 17, CIFAR-10 Batch 1:  accuracy: 0.625, loss: 1.1585321426391602 \n",
      "Epoch 18, CIFAR-10 Batch 1:  accuracy: 0.625, loss: 1.1026790142059326 \n",
      "Epoch 19, CIFAR-10 Batch 1:  accuracy: 0.6499999761581421, loss: 1.0910582542419434 \n",
      "Epoch 20, CIFAR-10 Batch 1:  accuracy: 0.625, loss: 1.0376402139663696 \n"
     ]
    }
   ],
   "source": [
    "\"\"\"\n",
    "DON'T MODIFY ANYTHING IN THIS CELL\n",
    "\"\"\"\n",
    "print('Checking the Training on a Single Batch...')\n",
    "with tf.Session() as sess:\n",
    "    # Initializing the variables\n",
    "    sess.run(tf.global_variables_initializer())\n",
    "    \n",
    "    # Training cycle\n",
    "    for epoch in range(epochs):\n",
    "        batch_i = 1\n",
    "        for batch_features, batch_labels in helper.load_preprocess_training_batch(batch_i, batch_size):\n",
    "            train_neural_network(sess, optimizer, keep_probability, batch_features, batch_labels)\n",
    "        print('Epoch {:>2}, CIFAR-10 Batch {}:  '.format(epoch + 1, batch_i), end='')\n",
    "        print_stats(sess, batch_features, batch_labels, cost, accuracy)"
   ]
  },
  {
   "cell_type": "markdown",
   "metadata": {
    "deletable": true,
    "editable": true
   },
   "source": [
    "### Fully Train the Model\n",
    "Now that you got a good accuracy with a single CIFAR-10 batch, try it with all five batches."
   ]
  },
  {
   "cell_type": "code",
   "execution_count": 40,
   "metadata": {
    "collapsed": false,
    "deletable": true,
    "editable": true
   },
   "outputs": [
    {
     "name": "stdout",
     "output_type": "stream",
     "text": [
      "Training...\n",
      "Epoch  1, CIFAR-10 Batch 1:  accuracy: 0.125, loss: 2.232445478439331 \n",
      "Epoch  1, CIFAR-10 Batch 2:  accuracy: 0.32500001788139343, loss: 2.1580348014831543 \n",
      "Epoch  1, CIFAR-10 Batch 3:  accuracy: 0.20000000298023224, loss: 2.0943961143493652 \n",
      "Epoch  1, CIFAR-10 Batch 4:  accuracy: 0.22500000894069672, loss: 1.9322097301483154 \n",
      "Epoch  1, CIFAR-10 Batch 5:  accuracy: 0.3500000238418579, loss: 1.7490260601043701 \n",
      "Epoch  2, CIFAR-10 Batch 1:  accuracy: 0.3500000238418579, loss: 1.8795732259750366 \n",
      "Epoch  2, CIFAR-10 Batch 2:  accuracy: 0.375, loss: 1.7958645820617676 \n",
      "Epoch  2, CIFAR-10 Batch 3:  accuracy: 0.4000000059604645, loss: 1.44627845287323 \n",
      "Epoch  2, CIFAR-10 Batch 4:  accuracy: 0.32500001788139343, loss: 1.6386713981628418 \n",
      "Epoch  2, CIFAR-10 Batch 5:  accuracy: 0.4749999940395355, loss: 1.488654613494873 \n",
      "Epoch  3, CIFAR-10 Batch 1:  accuracy: 0.40000003576278687, loss: 1.6430156230926514 \n",
      "Epoch  3, CIFAR-10 Batch 2:  accuracy: 0.42500001192092896, loss: 1.630392074584961 \n",
      "Epoch  3, CIFAR-10 Batch 3:  accuracy: 0.5, loss: 1.3509516716003418 \n",
      "Epoch  3, CIFAR-10 Batch 4:  accuracy: 0.3499999940395355, loss: 1.556782603263855 \n",
      "Epoch  3, CIFAR-10 Batch 5:  accuracy: 0.4750000238418579, loss: 1.394089698791504 \n",
      "Epoch  4, CIFAR-10 Batch 1:  accuracy: 0.4750000238418579, loss: 1.5659923553466797 \n",
      "Epoch  4, CIFAR-10 Batch 2:  accuracy: 0.4749999940395355, loss: 1.535523533821106 \n",
      "Epoch  4, CIFAR-10 Batch 3:  accuracy: 0.5, loss: 1.2535585165023804 \n",
      "Epoch  4, CIFAR-10 Batch 4:  accuracy: 0.5, loss: 1.3406879901885986 \n",
      "Epoch  4, CIFAR-10 Batch 5:  accuracy: 0.5, loss: 1.419565200805664 \n",
      "Epoch  5, CIFAR-10 Batch 1:  accuracy: 0.550000011920929, loss: 1.407930612564087 \n",
      "Epoch  5, CIFAR-10 Batch 2:  accuracy: 0.5249999761581421, loss: 1.331878662109375 \n",
      "Epoch  5, CIFAR-10 Batch 3:  accuracy: 0.550000011920929, loss: 1.1482703685760498 \n",
      "Epoch  5, CIFAR-10 Batch 4:  accuracy: 0.5, loss: 1.305415153503418 \n",
      "Epoch  5, CIFAR-10 Batch 5:  accuracy: 0.574999988079071, loss: 1.2284419536590576 \n",
      "Epoch  6, CIFAR-10 Batch 1:  accuracy: 0.6000000238418579, loss: 1.2691516876220703 \n",
      "Epoch  6, CIFAR-10 Batch 2:  accuracy: 0.4999999701976776, loss: 1.2489397525787354 \n",
      "Epoch  6, CIFAR-10 Batch 3:  accuracy: 0.5, loss: 1.0674378871917725 \n",
      "Epoch  6, CIFAR-10 Batch 4:  accuracy: 0.550000011920929, loss: 1.249910831451416 \n",
      "Epoch  6, CIFAR-10 Batch 5:  accuracy: 0.5999999642372131, loss: 1.1879873275756836 \n",
      "Epoch  7, CIFAR-10 Batch 1:  accuracy: 0.6000000238418579, loss: 1.1472256183624268 \n",
      "Epoch  7, CIFAR-10 Batch 2:  accuracy: 0.5, loss: 1.2191214561462402 \n",
      "Epoch  7, CIFAR-10 Batch 3:  accuracy: 0.574999988079071, loss: 1.0171949863433838 \n",
      "Epoch  7, CIFAR-10 Batch 4:  accuracy: 0.574999988079071, loss: 1.077233076095581 \n",
      "Epoch  7, CIFAR-10 Batch 5:  accuracy: 0.675000011920929, loss: 1.0654314756393433 \n",
      "Epoch  8, CIFAR-10 Batch 1:  accuracy: 0.625, loss: 1.1410350799560547 \n",
      "Epoch  8, CIFAR-10 Batch 2:  accuracy: 0.6000000238418579, loss: 1.0476077795028687 \n",
      "Epoch  8, CIFAR-10 Batch 3:  accuracy: 0.574999988079071, loss: 0.99237060546875 \n",
      "Epoch  8, CIFAR-10 Batch 4:  accuracy: 0.574999988079071, loss: 1.0008959770202637 \n",
      "Epoch  8, CIFAR-10 Batch 5:  accuracy: 0.75, loss: 0.9398504495620728 \n",
      "Epoch  9, CIFAR-10 Batch 1:  accuracy: 0.6750000715255737, loss: 0.9848695993423462 \n",
      "Epoch  9, CIFAR-10 Batch 2:  accuracy: 0.6000000238418579, loss: 0.9908736944198608 \n",
      "Epoch  9, CIFAR-10 Batch 3:  accuracy: 0.6500000357627869, loss: 0.8942692279815674 \n",
      "Epoch  9, CIFAR-10 Batch 4:  accuracy: 0.675000011920929, loss: 1.0364465713500977 \n",
      "Epoch  9, CIFAR-10 Batch 5:  accuracy: 0.7000000476837158, loss: 0.9591436982154846 \n",
      "Epoch 10, CIFAR-10 Batch 1:  accuracy: 0.7250000238418579, loss: 0.9597992897033691 \n",
      "Epoch 10, CIFAR-10 Batch 2:  accuracy: 0.7000000476837158, loss: 0.9542754292488098 \n",
      "Epoch 10, CIFAR-10 Batch 3:  accuracy: 0.6499999761581421, loss: 0.8297507762908936 \n",
      "Epoch 10, CIFAR-10 Batch 4:  accuracy: 0.6500000357627869, loss: 0.928877592086792 \n",
      "Epoch 10, CIFAR-10 Batch 5:  accuracy: 0.7250000238418579, loss: 0.807021975517273 \n",
      "Epoch 11, CIFAR-10 Batch 1:  accuracy: 0.75, loss: 0.9220385551452637 \n",
      "Epoch 11, CIFAR-10 Batch 2:  accuracy: 0.5250000357627869, loss: 1.0038976669311523 \n",
      "Epoch 11, CIFAR-10 Batch 3:  accuracy: 0.625, loss: 0.8682785034179688 \n",
      "Epoch 11, CIFAR-10 Batch 4:  accuracy: 0.6000000238418579, loss: 0.9368066191673279 \n",
      "Epoch 11, CIFAR-10 Batch 5:  accuracy: 0.75, loss: 0.8077149391174316 \n",
      "Epoch 12, CIFAR-10 Batch 1:  accuracy: 0.7250000238418579, loss: 0.9886690974235535 \n",
      "Epoch 12, CIFAR-10 Batch 2:  accuracy: 0.7250000238418579, loss: 0.828008770942688 \n",
      "Epoch 12, CIFAR-10 Batch 3:  accuracy: 0.625, loss: 0.8054575324058533 \n",
      "Epoch 12, CIFAR-10 Batch 4:  accuracy: 0.6500000357627869, loss: 0.8733054399490356 \n",
      "Epoch 12, CIFAR-10 Batch 5:  accuracy: 0.8250000476837158, loss: 0.7426855564117432 \n",
      "Epoch 13, CIFAR-10 Batch 1:  accuracy: 0.6999999284744263, loss: 0.9381454586982727 \n",
      "Epoch 13, CIFAR-10 Batch 2:  accuracy: 0.7250000238418579, loss: 0.7998198866844177 \n",
      "Epoch 13, CIFAR-10 Batch 3:  accuracy: 0.675000011920929, loss: 0.7591972947120667 \n",
      "Epoch 13, CIFAR-10 Batch 4:  accuracy: 0.699999988079071, loss: 0.8056425452232361 \n",
      "Epoch 13, CIFAR-10 Batch 5:  accuracy: 0.800000011920929, loss: 0.7500494718551636 \n",
      "Epoch 14, CIFAR-10 Batch 1:  accuracy: 0.7250000238418579, loss: 0.8299508094787598 \n",
      "Epoch 14, CIFAR-10 Batch 2:  accuracy: 0.7749999761581421, loss: 0.7384046912193298 \n",
      "Epoch 14, CIFAR-10 Batch 3:  accuracy: 0.6499999761581421, loss: 0.7633155584335327 \n",
      "Epoch 14, CIFAR-10 Batch 4:  accuracy: 0.7250000238418579, loss: 0.8101914525032043 \n",
      "Epoch 14, CIFAR-10 Batch 5:  accuracy: 0.7750000357627869, loss: 0.7508140802383423 \n",
      "Epoch 15, CIFAR-10 Batch 1:  accuracy: 0.7000000476837158, loss: 0.7758309841156006 \n",
      "Epoch 15, CIFAR-10 Batch 2:  accuracy: 0.7250000238418579, loss: 0.7020969986915588 \n",
      "Epoch 15, CIFAR-10 Batch 3:  accuracy: 0.675000011920929, loss: 0.7283350229263306 \n",
      "Epoch 15, CIFAR-10 Batch 4:  accuracy: 0.75, loss: 0.7793859243392944 \n",
      "Epoch 15, CIFAR-10 Batch 5:  accuracy: 0.8500000238418579, loss: 0.6377767324447632 \n",
      "Epoch 16, CIFAR-10 Batch 1:  accuracy: 0.75, loss: 0.8133031129837036 \n",
      "Epoch 16, CIFAR-10 Batch 2:  accuracy: 0.75, loss: 0.728585958480835 \n",
      "Epoch 16, CIFAR-10 Batch 3:  accuracy: 0.675000011920929, loss: 0.7088750600814819 \n",
      "Epoch 16, CIFAR-10 Batch 4:  accuracy: 0.7000000476837158, loss: 0.7456992864608765 \n",
      "Epoch 16, CIFAR-10 Batch 5:  accuracy: 0.875, loss: 0.6607834696769714 \n",
      "Epoch 17, CIFAR-10 Batch 1:  accuracy: 0.75, loss: 0.7908347845077515 \n",
      "Epoch 17, CIFAR-10 Batch 2:  accuracy: 0.8000000715255737, loss: 0.6595510840415955 \n",
      "Epoch 17, CIFAR-10 Batch 3:  accuracy: 0.7750000357627869, loss: 0.7162796854972839 \n",
      "Epoch 17, CIFAR-10 Batch 4:  accuracy: 0.800000011920929, loss: 0.7003971338272095 \n",
      "Epoch 17, CIFAR-10 Batch 5:  accuracy: 0.8250000476837158, loss: 0.6048077344894409 \n",
      "Epoch 18, CIFAR-10 Batch 1:  accuracy: 0.75, loss: 0.8049697875976562 \n",
      "Epoch 18, CIFAR-10 Batch 2:  accuracy: 0.7750000357627869, loss: 0.6747394800186157 \n",
      "Epoch 18, CIFAR-10 Batch 3:  accuracy: 0.7250000238418579, loss: 0.7081603407859802 \n",
      "Epoch 18, CIFAR-10 Batch 4:  accuracy: 0.7500000596046448, loss: 0.7309427857398987 \n",
      "Epoch 18, CIFAR-10 Batch 5:  accuracy: 0.8000000715255737, loss: 0.6519317626953125 \n",
      "Epoch 19, CIFAR-10 Batch 1:  accuracy: 0.75, loss: 0.7645918130874634 \n",
      "Epoch 19, CIFAR-10 Batch 2:  accuracy: 0.7750000357627869, loss: 0.6533095836639404 \n",
      "Epoch 19, CIFAR-10 Batch 3:  accuracy: 0.7250000238418579, loss: 0.6900010704994202 \n",
      "Epoch 19, CIFAR-10 Batch 4:  accuracy: 0.75, loss: 0.6495733261108398 \n",
      "Epoch 19, CIFAR-10 Batch 5:  accuracy: 0.7750000357627869, loss: 0.5809343457221985 \n",
      "Epoch 20, CIFAR-10 Batch 1:  accuracy: 0.75, loss: 0.7269760966300964 \n",
      "Epoch 20, CIFAR-10 Batch 2:  accuracy: 0.7749999761581421, loss: 0.6930434703826904 \n",
      "Epoch 20, CIFAR-10 Batch 3:  accuracy: 0.7250000238418579, loss: 0.6203449964523315 \n",
      "Epoch 20, CIFAR-10 Batch 4:  accuracy: 0.75, loss: 0.6500192880630493 \n",
      "Epoch 20, CIFAR-10 Batch 5:  accuracy: 0.8500000238418579, loss: 0.6173804998397827 \n"
     ]
    }
   ],
   "source": [
    "\"\"\"\n",
    "DON'T MODIFY ANYTHING IN THIS CELL\n",
    "\"\"\"\n",
    "save_model_path = './image_classification'\n",
    "\n",
    "print('Training...')\n",
    "with tf.Session() as sess:\n",
    "    # Initializing the variables\n",
    "    sess.run(tf.global_variables_initializer())\n",
    "    \n",
    "    # Training cycle\n",
    "    for epoch in range(epochs):\n",
    "        # Loop over all batches\n",
    "        n_batches = 5\n",
    "        for batch_i in range(1, n_batches + 1):\n",
    "            for batch_features, batch_labels in helper.load_preprocess_training_batch(batch_i, batch_size):\n",
    "                train_neural_network(sess, optimizer, keep_probability, batch_features, batch_labels)\n",
    "            print('Epoch {:>2}, CIFAR-10 Batch {}:  '.format(epoch + 1, batch_i), end='')\n",
    "            print_stats(sess, batch_features, batch_labels, cost, accuracy)\n",
    "            \n",
    "    # Save Model\n",
    "    saver = tf.train.Saver()\n",
    "    save_path = saver.save(sess, save_model_path)"
   ]
  },
  {
   "cell_type": "markdown",
   "metadata": {
    "deletable": true,
    "editable": true
   },
   "source": [
    "# Checkpoint\n",
    "The model has been saved to disk.\n",
    "## Test Model\n",
    "Test your model against the test dataset.  This will be your final accuracy. You should have an accuracy greater than 50%. If you don't, keep tweaking the model architecture and parameters."
   ]
  },
  {
   "cell_type": "code",
   "execution_count": 41,
   "metadata": {
    "collapsed": false,
    "deletable": true,
    "editable": true
   },
   "outputs": [
    {
     "name": "stdout",
     "output_type": "stream",
     "text": [
      "Testing Accuracy: 0.6239121835443038\n",
      "\n"
     ]
    },
    {
     "data": {
      "image/png": "[encoded data removed]",
      "text/plain": [
       "<matplotlib.figure.Figure at 0x7f24d2537a90>"
      ]
     },
     "metadata": {
      "image/png": {
       "height": 319,
       "width": 355
      }
     },
     "output_type": "display_data"
    }
   ],
   "source": [
    "\"\"\"\n",
    "DON'T MODIFY ANYTHING IN THIS CELL\n",
    "\"\"\"\n",
    "%matplotlib inline\n",
    "%config InlineBackend.figure_format = 'retina'\n",
    "\n",
    "import tensorflow as tf\n",
    "import pickle\n",
    "import helper\n",
    "import random\n",
    "\n",
    "# Set batch size if not already set\n",
    "try:\n",
    "    if batch_size:\n",
    "        pass\n",
    "except NameError:\n",
    "    batch_size = 64\n",
    "\n",
    "save_model_path = './image_classification'\n",
    "n_samples = 4\n",
    "top_n_predictions = 3\n",
    "\n",
    "def test_model():\n",
    "    \"\"\"\n",
    "    Test the saved model against the test dataset\n",
    "    \"\"\"\n",
    "\n",
    "    test_features, test_labels = pickle.load(open('preprocess_training.p', mode='rb'))\n",
    "    loaded_graph = tf.Graph()\n",
    "\n",
    "    with tf.Session(graph=loaded_graph) as sess:\n",
    "        # Load model\n",
    "        loader = tf.train.import_meta_graph(save_model_path + '.meta')\n",
    "        loader.restore(sess, save_model_path)\n",
    "\n",
    "        # Get Tensors from loaded model\n",
    "        loaded_x = loaded_graph.get_tensor_by_name('x:0')\n",
    "        loaded_y = loaded_graph.get_tensor_by_name('y:0')\n",
    "        loaded_keep_prob = loaded_graph.get_tensor_by_name('keep_prob:0')\n",
    "        loaded_logits = loaded_graph.get_tensor_by_name('logits:0')\n",
    "        loaded_acc = loaded_graph.get_tensor_by_name('accuracy:0')\n",
    "        \n",
    "        # Get accuracy in batches for memory limitations\n",
    "        test_batch_acc_total = 0\n",
    "        test_batch_count = 0\n",
    "        \n",
    "        for train_feature_batch, train_label_batch in helper.batch_features_labels(test_features, test_labels, batch_size):\n",
    "            test_batch_acc_total += sess.run(\n",
    "                loaded_acc,\n",
    "                feed_dict={loaded_x: train_feature_batch, loaded_y: train_label_batch, loaded_keep_prob: 1.0})\n",
    "            test_batch_count += 1\n",
    "\n",
    "        print('Testing Accuracy: {}\\n'.format(test_batch_acc_total/test_batch_count))\n",
    "\n",
    "        # Print Random Samples\n",
    "        random_test_features, random_test_labels = tuple(zip(*random.sample(list(zip(test_features, test_labels)), n_samples)))\n",
    "        random_test_predictions = sess.run(\n",
    "            tf.nn.top_k(tf.nn.softmax(loaded_logits), top_n_predictions),\n",
    "            feed_dict={loaded_x: random_test_features, loaded_y: random_test_labels, loaded_keep_prob: 1.0})\n",
    "        helper.display_image_predictions(random_test_features, random_test_labels, random_test_predictions)\n",
    "\n",
    "\n",
    "test_model()"
   ]
  },
  {
   "cell_type": "markdown",
   "metadata": {
    "deletable": true,
    "editable": true
   },
   "source": [
    "## Why 50-70% Accuracy?\n",
    "You might be wondering why you can't get an accuracy any higher. First things first, 50% isn't bad for a simple CNN.  Pure guessing would get you 10% accuracy. However, you might notice people are getting scores [well above 70%](http://rodrigob.github.io/are_we_there_yet/build/classification_datasets_results.html#43494641522d3130).  That's because we haven't taught you all there is to know about neural networks. We still need to cover a few more techniques.\n",
    "## Submitting This Project\n",
    "When submitting this project, make sure to run all the cells before saving the notebook.  Save the notebook file as \"dlnd_image_classification.ipynb\" and save it as a HTML file under \"File\" -> \"Download as\".  Include the \"helper.py\" and \"problem_unittests.py\" files in your submission."
   ]
  }
 ],
 "metadata": {
  "kernelspec": {
   "display_name": "Python 3",
   "language": "python",
   "name": "python3"
  },
  "language_info": {
   "codemirror_mode": {
    "name": "ipython",
    "version": 3
   },
   "file_extension": ".py",
   "mimetype": "text/x-python",
   "name": "python",
   "nbconvert_exporter": "python",
   "pygments_lexer": "ipython3",
   "version": "3.5.3"
  }
 },
 "nbformat": 4,
 "nbformat_minor": 0
}
